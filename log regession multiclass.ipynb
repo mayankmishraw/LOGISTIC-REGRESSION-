{
 "cells": [
  {
   "cell_type": "code",
   "execution_count": 160,
   "metadata": {},
   "outputs": [],
   "source": [
    "import matplotlib.pyplot as plt"
   ]
  },
  {
   "cell_type": "code",
   "execution_count": 198,
   "metadata": {},
   "outputs": [],
   "source": [
    "#https://www.youtube.com/watch?v=V8fS0T_ktn4   HOW MULTICLASSS LOGISTIC REGRESSION WORKS"
   ]
  },
  {
   "cell_type": "code",
   "execution_count": 161,
   "metadata": {},
   "outputs": [],
   "source": [
    "from sklearn.datasets import load_digits  #this is a trained model for identyfying numbers from image"
   ]
  },
  {
   "cell_type": "code",
   "execution_count": 162,
   "metadata": {},
   "outputs": [],
   "source": [
    "digits=load_digits()"
   ]
  },
  {
   "cell_type": "code",
   "execution_count": 163,
   "metadata": {},
   "outputs": [
    {
     "data": {
      "text/plain": [
       "['DESCR', 'data', 'feature_names', 'frame', 'images', 'target', 'target_names']"
      ]
     },
     "execution_count": 163,
     "metadata": {},
     "output_type": "execute_result"
    }
   ],
   "source": [
    "dir(digits)"
   ]
  },
  {
   "cell_type": "code",
   "execution_count": 164,
   "metadata": {},
   "outputs": [
    {
     "data": {
      "text/plain": [
       "array([ 0.,  0.,  5., 13.,  9.,  1.,  0.,  0.,  0.,  0., 13., 15., 10.,\n",
       "       15.,  5.,  0.,  0.,  3., 15.,  2.,  0., 11.,  8.,  0.,  0.,  4.,\n",
       "       12.,  0.,  0.,  8.,  8.,  0.,  0.,  5.,  8.,  0.,  0.,  9.,  8.,\n",
       "        0.,  0.,  4., 11.,  0.,  1., 12.,  7.,  0.,  0.,  2., 14.,  5.,\n",
       "       10., 12.,  0.,  0.,  0.,  0.,  6., 13., 10.,  0.,  0.,  0.])"
      ]
     },
     "execution_count": 164,
     "metadata": {},
     "output_type": "execute_result"
    }
   ],
   "source": [
    "x=digits[\"data\"][0]\n",
    "x"
   ]
  },
  {
   "cell_type": "code",
   "execution_count": 166,
   "metadata": {},
   "outputs": [
    {
     "data": {
      "text/plain": [
       "<Figure size 640x480 with 0 Axes>"
      ]
     },
     "metadata": {},
     "output_type": "display_data"
    },
    {
     "data": {
      "image/png": "[encoded data removed]",
      "text/plain": [
       "<Figure size 480x480 with 1 Axes>"
      ]
     },
     "metadata": {},
     "output_type": "display_data"
    },
    {
     "data": {
      "image/png": "[encoded data removed]",
      "text/plain": [
       "<Figure size 480x480 with 1 Axes>"
      ]
     },
     "metadata": {},
     "output_type": "display_data"
    },
    {
     "data": {
      "image/png": "[encoded data removed]",
      "text/plain": [
       "<Figure size 480x480 with 1 Axes>"
      ]
     },
     "metadata": {},
     "output_type": "display_data"
    }
   ],
   "source": [
    "plt.gray()\n",
    "for i in range(3):\n",
    "    plt.matshow(digits[\"images\"][i])"
   ]
  },
  {
   "cell_type": "code",
   "execution_count": 167,
   "metadata": {},
   "outputs": [
    {
     "data": {
      "text/plain": [
       "array([[ 0.,  0.,  5., ...,  0.,  0.,  0.],\n",
       "       [ 0.,  0.,  0., ..., 10.,  0.,  0.],\n",
       "       [ 0.,  0.,  0., ..., 16.,  9.,  0.],\n",
       "       ...,\n",
       "       [ 0.,  0.,  1., ...,  6.,  0.,  0.],\n",
       "       [ 0.,  0.,  2., ..., 12.,  0.,  0.],\n",
       "       [ 0.,  0., 10., ..., 12.,  1.,  0.]])"
      ]
     },
     "execution_count": 167,
     "metadata": {},
     "output_type": "execute_result"
    }
   ],
   "source": [
    "digits.data"
   ]
  },
  {
   "cell_type": "code",
   "execution_count": 168,
   "metadata": {},
   "outputs": [
    {
     "data": {
      "text/plain": [
       "array([0, 1, 2, ..., 8, 9, 8])"
      ]
     },
     "execution_count": 168,
     "metadata": {},
     "output_type": "execute_result"
    }
   ],
   "source": [
    "digits.target"
   ]
  },
  {
   "cell_type": "code",
   "execution_count": 169,
   "metadata": {},
   "outputs": [],
   "source": [
    "from sklearn.model_selection import train_test_split"
   ]
  },
  {
   "cell_type": "code",
   "execution_count": 170,
   "metadata": {},
   "outputs": [],
   "source": [
    "xtrain,xtest,ytrain,ytest=train_test_split(digits.data,digits.target,test_size=0.1)"
   ]
  },
  {
   "cell_type": "code",
   "execution_count": 171,
   "metadata": {},
   "outputs": [
    {
     "data": {
      "text/plain": [
       "array([[ 0.,  4., 16., ...,  0.,  0.,  0.],\n",
       "       [ 0.,  0.,  0., ...,  6.,  0.,  0.],\n",
       "       [ 0.,  0.,  1., ..., 11.,  1.,  0.],\n",
       "       ...,\n",
       "       [ 0.,  0.,  4., ..., 16.,  8.,  0.],\n",
       "       [ 0.,  0.,  2., ...,  5.,  0.,  0.],\n",
       "       [ 0.,  0.,  3., ...,  0.,  0.,  0.]])"
      ]
     },
     "execution_count": 171,
     "metadata": {},
     "output_type": "execute_result"
    }
   ],
   "source": [
    "xtrain"
   ]
  },
  {
   "cell_type": "code",
   "execution_count": 172,
   "metadata": {},
   "outputs": [
    {
     "data": {
      "text/plain": [
       "array([5, 9, 9, ..., 1, 0, 7])"
      ]
     },
     "execution_count": 172,
     "metadata": {},
     "output_type": "execute_result"
    }
   ],
   "source": [
    "ytrain"
   ]
  },
  {
   "cell_type": "code",
   "execution_count": 173,
   "metadata": {},
   "outputs": [],
   "source": [
    "from sklearn.linear_model import LogisticRegression"
   ]
  },
  {
   "cell_type": "code",
   "execution_count": 174,
   "metadata": {},
   "outputs": [],
   "source": [
    "lr=LogisticRegression(solver='lbfgs', max_iter=10000)"
   ]
  },
  {
   "cell_type": "code",
   "execution_count": 175,
   "metadata": {},
   "outputs": [
    {
     "data": {
      "text/html": [
       "<style>#sk-container-id-6 {color: black;background-color: white;}#sk-container-id-6 pre{padding: 0;}#sk-container-id-6 div.sk-toggleable {background-color: white;}#sk-container-id-6 label.sk-toggleable__label {cursor: pointer;display: block;width: 100%;margin-bottom: 0;padding: 0.3em;box-sizing: border-box;text-align: center;}#sk-container-id-6 label.sk-toggleable__label-arrow:before {content: \"▸\";float: left;margin-right: 0.25em;color: #696969;}#sk-container-id-6 label.sk-toggleable__label-arrow:hover:before {color: black;}#sk-container-id-6 div.sk-estimator:hover label.sk-toggleable__label-arrow:before {color: black;}#sk-container-id-6 div.sk-toggleable__content {max-height: 0;max-width: 0;overflow: hidden;text-align: left;background-color: #f0f8ff;}#sk-container-id-6 div.sk-toggleable__content pre {margin: 0.2em;color: black;border-radius: 0.25em;background-color: #f0f8ff;}#sk-container-id-6 input.sk-toggleable__control:checked~div.sk-toggleable__content {max-height: 200px;max-width: 100%;overflow: auto;}#sk-container-id-6 input.sk-toggleable__control:checked~label.sk-toggleable__label-arrow:before {content: \"▾\";}#sk-container-id-6 div.sk-estimator input.sk-toggleable__control:checked~label.sk-toggleable__label {background-color: #d4ebff;}#sk-container-id-6 div.sk-label input.sk-toggleable__control:checked~label.sk-toggleable__label {background-color: #d4ebff;}#sk-container-id-6 input.sk-hidden--visually {border: 0;clip: rect(1px 1px 1px 1px);clip: rect(1px, 1px, 1px, 1px);height: 1px;margin: -1px;overflow: hidden;padding: 0;position: absolute;width: 1px;}#sk-container-id-6 div.sk-estimator {font-family: monospace;background-color: #f0f8ff;border: 1px dotted black;border-radius: 0.25em;box-sizing: border-box;margin-bottom: 0.5em;}#sk-container-id-6 div.sk-estimator:hover {background-color: #d4ebff;}#sk-container-id-6 div.sk-parallel-item::after {content: \"\";width: 100%;border-bottom: 1px solid gray;flex-grow: 1;}#sk-container-id-6 div.sk-label:hover label.sk-toggleable__label {background-color: #d4ebff;}#sk-container-id-6 div.sk-serial::before {content: \"\";position: absolute;border-left: 1px solid gray;box-sizing: border-box;top: 0;bottom: 0;left: 50%;z-index: 0;}#sk-container-id-6 div.sk-serial {display: flex;flex-direction: column;align-items: center;background-color: white;padding-right: 0.2em;padding-left: 0.2em;position: relative;}#sk-container-id-6 div.sk-item {position: relative;z-index: 1;}#sk-container-id-6 div.sk-parallel {display: flex;align-items: stretch;justify-content: center;background-color: white;position: relative;}#sk-container-id-6 div.sk-item::before, #sk-container-id-6 div.sk-parallel-item::before {content: \"\";position: absolute;border-left: 1px solid gray;box-sizing: border-box;top: 0;bottom: 0;left: 50%;z-index: -1;}#sk-container-id-6 div.sk-parallel-item {display: flex;flex-direction: column;z-index: 1;position: relative;background-color: white;}#sk-container-id-6 div.sk-parallel-item:first-child::after {align-self: flex-end;width: 50%;}#sk-container-id-6 div.sk-parallel-item:last-child::after {align-self: flex-start;width: 50%;}#sk-container-id-6 div.sk-parallel-item:only-child::after {width: 0;}#sk-container-id-6 div.sk-dashed-wrapped {border: 1px dashed gray;margin: 0 0.4em 0.5em 0.4em;box-sizing: border-box;padding-bottom: 0.4em;background-color: white;}#sk-container-id-6 div.sk-label label {font-family: monospace;font-weight: bold;display: inline-block;line-height: 1.2em;}#sk-container-id-6 div.sk-label-container {text-align: center;}#sk-container-id-6 div.sk-container {/* jupyter's `normalize.less` sets `[hidden] { display: none; }` but bootstrap.min.css set `[hidden] { display: none !important; }` so we also need the `!important` here to be able to override the default hidden behavior on the sphinx rendered scikit-learn.org. See: https://github.com/scikit-learn/scikit-learn/issues/21755 */display: inline-block !important;position: relative;}#sk-container-id-6 div.sk-text-repr-fallback {display: none;}</style><div id=\"sk-container-id-6\" class=\"sk-top-container\"><div class=\"sk-text-repr-fallback\"><pre>LogisticRegression(max_iter=10000)</pre><b>In a Jupyter environment, please rerun this cell to show the HTML representation or trust the notebook. <br />On GitHub, the HTML representation is unable to render, please try loading this page with nbviewer.org.</b></div><div class=\"sk-container\" hidden><div class=\"sk-item\"><div class=\"sk-estimator sk-toggleable\"><input class=\"sk-toggleable__control sk-hidden--visually\" id=\"sk-estimator-id-6\" type=\"checkbox\" checked><label for=\"sk-estimator-id-6\" class=\"sk-toggleable__label sk-toggleable__label-arrow\">LogisticRegression</label><div class=\"sk-toggleable__content\"><pre>LogisticRegression(max_iter=10000)</pre></div></div></div></div></div>"
      ],
      "text/plain": [
       "LogisticRegression(max_iter=10000)"
      ]
     },
     "execution_count": 175,
     "metadata": {},
     "output_type": "execute_result"
    }
   ],
   "source": [
    "lr.fit(xtrain,ytrain)"
   ]
  },
  {
   "cell_type": "code",
   "execution_count": 176,
   "metadata": {},
   "outputs": [],
   "source": [
    "pred=lr.predict(xtest)"
   ]
  },
  {
   "cell_type": "code",
   "execution_count": 177,
   "metadata": {},
   "outputs": [
    {
     "data": {
      "text/plain": [
       "array([0, 1, 0, 9, 5, 8, 0, 2, 1, 6, 0, 3, 3, 3, 4, 7, 7, 5, 3, 6, 6, 0,\n",
       "       7, 0, 5, 4, 8, 6, 8, 2, 4, 2, 1, 5, 8, 4, 1, 6, 3, 2, 9, 1, 6, 5,\n",
       "       5, 2, 2, 2, 5, 5, 0, 3, 3, 8, 3, 7, 2, 7, 4, 4, 5, 9, 0, 0, 3, 0,\n",
       "       1, 7, 2, 0, 5, 7, 0, 8, 7, 1, 2, 0, 5, 7, 7, 6, 5, 5, 0, 5, 4, 5,\n",
       "       4, 5, 9, 6, 7, 6, 3, 7, 2, 6, 9, 0, 3, 9, 9, 4, 5, 1, 0, 5, 4, 2,\n",
       "       9, 9, 3, 3, 7, 7, 0, 8, 2, 8, 2, 3, 9, 8, 7, 9, 3, 6, 6, 8, 8, 7,\n",
       "       3, 7, 8, 2, 6, 5, 7, 1, 8, 6, 8, 2, 8, 8, 0, 9, 0, 7, 9, 0, 3, 4,\n",
       "       6, 1, 4, 8, 6, 7, 3, 7, 6, 1, 2, 4, 6, 3, 6, 4, 6, 9, 6, 0, 6, 5,\n",
       "       3, 7, 5, 1])"
      ]
     },
     "execution_count": 177,
     "metadata": {},
     "output_type": "execute_result"
    }
   ],
   "source": [
    "pred"
   ]
  },
  {
   "cell_type": "code",
   "execution_count": 178,
   "metadata": {},
   "outputs": [
    {
     "data": {
      "text/plain": [
       "array([0, 1, 0, 9, 5, 8, 0, 2, 1, 6, 0, 3, 3, 3, 4, 7, 7, 5, 3, 6, 6, 0,\n",
       "       7, 0, 5, 4, 8, 6, 8, 2, 4, 2, 1, 5, 1, 4, 1, 6, 1, 2, 9, 1, 6, 5,\n",
       "       5, 2, 2, 2, 5, 5, 0, 3, 3, 8, 3, 7, 2, 7, 4, 4, 5, 9, 0, 0, 3, 0,\n",
       "       1, 7, 2, 0, 5, 7, 0, 8, 7, 1, 2, 0, 5, 7, 7, 6, 5, 5, 0, 5, 4, 5,\n",
       "       4, 5, 9, 6, 7, 6, 3, 7, 2, 6, 5, 0, 3, 9, 9, 4, 5, 1, 0, 5, 4, 2,\n",
       "       9, 9, 3, 3, 7, 7, 0, 8, 2, 8, 2, 3, 9, 8, 7, 9, 3, 6, 6, 8, 8, 7,\n",
       "       3, 7, 8, 2, 6, 5, 7, 1, 9, 6, 8, 2, 8, 8, 0, 9, 0, 7, 9, 0, 3, 4,\n",
       "       6, 1, 4, 8, 6, 7, 3, 7, 6, 1, 2, 4, 6, 3, 6, 4, 6, 9, 6, 0, 6, 5,\n",
       "       3, 7, 5, 1])"
      ]
     },
     "execution_count": 178,
     "metadata": {},
     "output_type": "execute_result"
    }
   ],
   "source": [
    "ytest"
   ]
  },
  {
   "cell_type": "code",
   "execution_count": 179,
   "metadata": {},
   "outputs": [],
   "source": [
    "from sklearn.metrics import confusion_matrix,accuracy_score"
   ]
  },
  {
   "cell_type": "code",
   "execution_count": 180,
   "metadata": {},
   "outputs": [
    {
     "data": {
      "text/plain": [
       "array([[21,  0,  0,  0,  0,  0,  0,  0,  0,  0],\n",
       "       [ 0, 12,  0,  0,  0,  0,  0,  0,  0,  0],\n",
       "       [ 0,  0, 17,  0,  0,  0,  0,  0,  0,  0],\n",
       "       [ 0,  1,  0, 19,  0,  0,  0,  0,  0,  0],\n",
       "       [ 0,  0,  0,  0, 14,  0,  0,  0,  0,  0],\n",
       "       [ 0,  0,  0,  0,  0, 21,  0,  0,  0,  0],\n",
       "       [ 0,  0,  0,  0,  0,  0, 22,  0,  0,  0],\n",
       "       [ 0,  0,  0,  0,  0,  0,  0, 22,  0,  0],\n",
       "       [ 0,  1,  0,  0,  0,  0,  0,  0, 15,  1],\n",
       "       [ 0,  0,  0,  0,  0,  1,  0,  0,  0, 13]], dtype=int64)"
      ]
     },
     "execution_count": 180,
     "metadata": {},
     "output_type": "execute_result"
    }
   ],
   "source": [
    "confusion_matrix(pred,ytest)"
   ]
  },
  {
   "cell_type": "code",
   "execution_count": 186,
   "metadata": {},
   "outputs": [
    {
     "data": {
      "text/plain": [
       "0.9777777777777777"
      ]
     },
     "execution_count": 186,
     "metadata": {},
     "output_type": "execute_result"
    }
   ],
   "source": [
    "accuracy_score(pred,ytest)"
   ]
  },
  {
   "cell_type": "code",
   "execution_count": 181,
   "metadata": {},
   "outputs": [
    {
     "data": {
      "text/plain": [
       "<matplotlib.image.AxesImage at 0x1c53a5080d0>"
      ]
     },
     "execution_count": 181,
     "metadata": {},
     "output_type": "execute_result"
    },
    {
     "data": {
      "image/png": "[encoded data removed]",
      "text/plain": [
       "<Figure size 480x480 with 1 Axes>"
      ]
     },
     "metadata": {},
     "output_type": "display_data"
    }
   ],
   "source": [
    "plt.matshow(digits.images[67])"
   ]
  },
  {
   "cell_type": "code",
   "execution_count": 182,
   "metadata": {},
   "outputs": [
    {
     "data": {
      "text/plain": [
       "6"
      ]
     },
     "execution_count": 182,
     "metadata": {},
     "output_type": "execute_result"
    }
   ],
   "source": [
    "digits.target[67]"
   ]
  },
  {
   "cell_type": "code",
   "execution_count": 185,
   "metadata": {},
   "outputs": [
    {
     "data": {
      "text/plain": [
       "array([6])"
      ]
     },
     "execution_count": 185,
     "metadata": {},
     "output_type": "execute_result"
    }
   ],
   "source": [
    "lr.predict([digits.data[67]])"
   ]
  },
  {
   "cell_type": "code",
   "execution_count": 200,
   "metadata": {},
   "outputs": [
    {
     "data": {
      "text/plain": [
       "array([[ 0.00000000e+00, -1.42733671e-03, -3.58770870e-03,\n",
       "         2.09109742e-02,  6.48111852e-02, -1.03713127e-01,\n",
       "        -9.69707684e-02, -1.58821583e-02, -4.15029440e-06,\n",
       "        -2.08544249e-02, -3.90023295e-02,  1.86559662e-01,\n",
       "         3.51081066e-03,  5.23719074e-02, -2.69767141e-02,\n",
       "        -1.53596513e-02, -2.34309263e-03,  2.08881243e-02,\n",
       "         7.86171816e-02, -1.96936401e-02, -3.32958168e-01,\n",
       "         1.26493237e-01,  6.31569918e-02, -4.09793749e-03,\n",
       "        -1.17148547e-03,  8.64202465e-02,  1.16989883e-01,\n",
       "        -1.28872128e-01, -4.21705384e-01, -3.15918682e-02,\n",
       "         1.31109803e-01, -5.00463254e-06,  0.00000000e+00,\n",
       "         1.73474854e-01,  6.64054035e-02, -1.78601325e-01,\n",
       "        -3.79467564e-01,  2.15186799e-02,  1.06946440e-01,\n",
       "         0.00000000e+00, -1.00997222e-06,  4.39716090e-03,\n",
       "         1.75792691e-01, -1.21247500e-01, -2.00769994e-01,\n",
       "         1.25908609e-01,  2.84557242e-02, -1.12907743e-05,\n",
       "        -5.27583794e-07, -3.61685284e-02,  7.23263932e-02,\n",
       "         1.59156535e-02,  2.10240235e-01,  3.42804231e-02,\n",
       "         1.20972267e-03, -1.22933754e-02, -1.08527301e-07,\n",
       "        -7.51676280e-03, -2.21324874e-02,  1.23380688e-01,\n",
       "        -7.79132161e-02, -1.16710426e-03, -3.31916784e-02,\n",
       "        -2.61993764e-02],\n",
       "       [ 0.00000000e+00,  1.52507290e-02, -3.81444099e-02,\n",
       "         2.46337432e-01, -6.61810067e-01,  3.86918209e-01,\n",
       "         2.66115704e-02, -1.10879040e-02, -8.22461891e-04,\n",
       "        -3.36935008e-01, -3.83420305e-01, -3.47309746e-01,\n",
       "         2.81302794e-01, -6.20415065e-02, -2.40243687e-01,\n",
       "        -2.17033203e-02,  8.02410596e-02,  3.56977083e-01,\n",
       "        -5.27904054e-03,  9.09909677e-01,  1.87363916e-01,\n",
       "        -6.56733138e-02,  1.20761901e-02, -5.16914422e-04,\n",
       "        -1.28540086e-03, -9.23529807e-02,  6.15612033e-03,\n",
       "         1.40209295e-01,  2.72665521e-01,  1.03653794e-01,\n",
       "         8.10490805e-02, -5.20311735e-07,  0.00000000e+00,\n",
       "        -4.82656908e-02,  1.98841673e-01, -2.05450098e-01,\n",
       "         1.23936904e-01,  8.28841816e-02, -1.81519639e-01,\n",
       "         0.00000000e+00, -1.32353958e-06, -3.06092483e-01,\n",
       "         1.27625713e-02,  4.26607367e-01, -1.31993655e-02,\n",
       "        -1.05974111e-01, -4.46659411e-01, -1.49675846e-03,\n",
       "        -2.54858782e-04, -4.84930276e-02, -1.19257496e-01,\n",
       "         2.86100652e-02,  1.69844587e-01, -5.54214462e-02,\n",
       "        -1.74662808e-01,  2.13690623e-01, -8.48985625e-05,\n",
       "         2.49028855e-03, -2.09681902e-01, -4.49497887e-02,\n",
       "         3.00106959e-01,  1.15749153e-01,  1.68525026e-01,\n",
       "         2.23811626e-01],\n",
       "       [ 0.00000000e+00,  2.83113769e-02,  6.30763022e-03,\n",
       "         3.95966849e-02,  8.18890560e-02, -7.42514251e-02,\n",
       "         1.25479329e-02, -4.29078876e-04, -2.52467962e-02,\n",
       "         2.19269493e-01,  5.27285174e-02, -1.84881518e-01,\n",
       "         2.53092262e-01,  8.20984427e-03,  4.78373194e-03,\n",
       "        -1.25024144e-04, -1.15359229e-02, -9.08623781e-02,\n",
       "        -4.88155793e-02, -2.62019401e-01,  2.24973855e-01,\n",
       "        -2.11203398e-02,  1.47109040e-01, -6.41030531e-06,\n",
       "        -4.55226839e-07, -1.81333354e-01, -5.44958147e-01,\n",
       "        -3.80136003e-01, -2.51479346e-01, -2.57921420e-02,\n",
       "         2.82147374e-02, -2.31485600e-07,  0.00000000e+00,\n",
       "        -1.49402505e-01, -3.16138209e-01, -8.65296647e-02,\n",
       "         4.38395163e-02, -2.08727135e-01, -2.78669757e-01,\n",
       "         0.00000000e+00, -1.00299265e-06,  7.84333744e-02,\n",
       "         7.29585144e-02,  4.09147515e-01, -3.75770862e-01,\n",
       "        -2.95667286e-01, -7.23898019e-02,  9.09869630e-03,\n",
       "         1.15419541e-03,  2.85511927e-02,  3.32198565e-02,\n",
       "         5.15512952e-01,  2.75321555e-01,  3.07312916e-01,\n",
       "         1.58255326e-01,  6.93452568e-02,  3.84783883e-04,\n",
       "         4.01140161e-02,  2.11060643e-01,  9.11459546e-02,\n",
       "         1.70145150e-02,  1.97779847e-01,  3.46223079e-01,\n",
       "         1.43479251e-01],\n",
       "       [ 0.00000000e+00,  1.64036615e-01, -9.80809771e-02,\n",
       "         3.11554984e-02,  4.25531421e-01,  7.11345304e-02,\n",
       "         1.41730265e-02, -7.86730305e-04, -1.17869044e-02,\n",
       "         7.33548586e-02,  1.23053941e-01,  7.19313031e-02,\n",
       "         1.46330436e-01,  2.60663590e-01,  1.73796181e-01,\n",
       "        -3.73696187e-03, -6.23196685e-03, -6.81667051e-02,\n",
       "        -2.85051805e-01, -5.05985866e-01,  9.08566194e-02,\n",
       "        -2.36405953e-01,  1.00707526e-02, -6.39109729e-04,\n",
       "        -1.54403738e-07, -1.91143517e-01, -3.83785853e-01,\n",
       "        -1.51216070e-01,  2.68403708e-01, -4.29336736e-01,\n",
       "        -3.29093920e-01, -2.31503322e-07,  0.00000000e+00,\n",
       "        -1.09108823e-01, -1.51846464e-01,  7.82547060e-02,\n",
       "         6.29505811e-02, -8.99949170e-02,  2.72160572e-02,\n",
       "         0.00000000e+00, -1.00286108e-06, -2.71478536e-02,\n",
       "        -2.64150889e-01, -4.93004204e-01,  1.54811023e-01,\n",
       "         1.79364589e-01,  2.26343364e-01, -9.20922314e-03,\n",
       "        -4.30492433e-07, -1.03688397e-01, -2.48185351e-02,\n",
       "        -1.97219818e-01,  8.91667416e-02,  3.51164225e-01,\n",
       "         3.61136164e-01, -1.22948512e-01, -9.20190090e-08,\n",
       "         8.50471351e-02,  2.37677671e-01,  9.12429458e-02,\n",
       "         7.30466280e-03,  1.33112064e-02,  6.11588179e-02,\n",
       "        -2.00711374e-01],\n",
       "       [ 0.00000000e+00, -2.43349472e-02, -2.71573562e-01,\n",
       "        -4.79574103e-01, -2.59953081e-01, -3.20660520e-01,\n",
       "        -3.15992843e-01,  7.25470833e-02, -2.69813633e-05,\n",
       "        -1.98558840e-03, -1.38137396e-01, -2.76410872e-01,\n",
       "        -3.70525415e-01, -3.03872531e-01, -1.78306565e-01,\n",
       "         9.83000247e-02, -1.53775301e-02,  1.85945429e-01,\n",
       "         1.02194600e-01,  3.00326280e-03,  6.58067452e-02,\n",
       "         6.04404289e-02, -9.42261154e-02,  8.50325798e-02,\n",
       "         3.37368193e-02,  7.34070015e-02,  2.39835414e-01,\n",
       "         4.39246729e-02,  3.55946425e-02,  7.46864214e-02,\n",
       "         3.46083952e-01,  8.98212458e-04,  0.00000000e+00,\n",
       "         1.83888424e-01,  1.17744920e-01, -1.61819831e-01,\n",
       "         2.10904019e-01,  2.13763305e-01,  3.07018802e-01,\n",
       "         0.00000000e+00,  1.11094060e-05,  4.77069037e-01,\n",
       "         1.41992140e-02,  5.29331197e-01,  3.12453867e-01,\n",
       "         4.95113057e-02,  1.26696318e-01, -2.65344722e-04,\n",
       "        -2.39371754e-06,  1.50142836e-01, -1.71249567e-01,\n",
       "         4.11996492e-02,  6.65716204e-02, -2.93874077e-01,\n",
       "        -3.02291831e-01, -3.07412321e-03, -1.35185507e-06,\n",
       "        -4.85217088e-02, -1.49694624e-01, -2.18685688e-01,\n",
       "        -2.59061974e-01, -2.17852403e-01, -9.20412425e-02,\n",
       "        -5.16430291e-04],\n",
       "       [ 0.00000000e+00,  1.05794919e-01,  3.42131465e-01,\n",
       "        -5.35236538e-02,  1.70085767e-01,  3.15869887e-01,\n",
       "         4.02553676e-01, -2.58251841e-02,  4.90127138e-07,\n",
       "        -3.04035035e-02,  3.27996684e-01,  2.05921432e-01,\n",
       "         6.53998781e-03, -1.52194958e-01,  1.59170908e-03,\n",
       "         4.89473217e-03, -3.33356684e-05, -2.96483507e-02,\n",
       "         1.04777175e-01,  7.05647075e-02, -5.37105739e-01,\n",
       "        -3.75858822e-01, -4.40196184e-01, -5.51941225e-03,\n",
       "        -2.11318811e-05,  2.42232172e-01,  2.74834470e-01,\n",
       "        -1.10258395e-01,  2.33645033e-01, -6.82976191e-05,\n",
       "        -2.68141931e-01, -3.82609825e-07,  0.00000000e+00,\n",
       "        -6.15205900e-03,  2.00730738e-01, -1.57600397e-01,\n",
       "        -1.02800685e-01,  1.06088321e-02,  3.37503612e-02,\n",
       "         0.00000000e+00, -1.00337254e-06, -2.67043692e-01,\n",
       "        -2.43539164e-01, -2.95609985e-01, -5.25052597e-02,\n",
       "         1.47491696e-01, -2.54692959e-02, -3.83493985e-06,\n",
       "        -3.93414915e-07, -2.00910306e-02,  1.90043773e-02,\n",
       "        -1.93797784e-01, -4.86158848e-02, -7.63008505e-02,\n",
       "        -8.52333741e-02, -4.17460258e-04, -7.95419190e-08,\n",
       "         6.35894430e-02,  4.66044535e-01,  2.72646840e-01,\n",
       "        -5.54140695e-02,  1.43068864e-02, -2.30417391e-01,\n",
       "        -1.95487675e-03],\n",
       "       [ 0.00000000e+00, -3.17619616e-03, -1.73797288e-01,\n",
       "        -9.11892139e-02, -6.04089298e-02, -2.03502863e-01,\n",
       "        -5.55724059e-02, -2.01368143e-05, -2.01964224e-03,\n",
       "        -1.11554127e-01, -1.77485354e-01, -1.83613048e-02,\n",
       "        -3.12470156e-01,  1.56847247e-02,  2.28302664e-02,\n",
       "        -7.41104840e-04, -6.57778911e-03, -4.39630011e-02,\n",
       "         1.18627652e-01,  6.50230850e-03, -2.54177833e-01,\n",
       "        -4.04693947e-01, -9.80913057e-02, -5.58490547e-04,\n",
       "        -2.78638291e-03,  2.05822931e-01,  7.03978727e-02,\n",
       "         1.79402393e-01, -8.40615344e-02,  2.51683207e-02,\n",
       "        -1.34369481e-01, -1.03203110e-06,  0.00000000e+00,\n",
       "         2.02732244e-01,  1.40066728e-01,  2.20789290e-01,\n",
       "         8.04151312e-03, -8.66621870e-02,  1.92046576e-01,\n",
       "         0.00000000e+00, -2.74350893e-06, -7.71022385e-02,\n",
       "         4.95690836e-01,  1.55192966e-01,  2.06747059e-01,\n",
       "         4.63819051e-02,  2.39557524e-01,  2.68773383e-03,\n",
       "        -5.11391877e-07, -5.54090825e-02,  1.63774990e-01,\n",
       "         2.13971927e-02, -8.60771359e-02,  2.63638614e-01,\n",
       "         7.42032139e-02, -1.55787283e-01, -8.10311353e-08,\n",
       "        -3.12250420e-03, -1.55286273e-01, -1.50059468e-01,\n",
       "         2.44241446e-02,  9.73585351e-02, -8.40138735e-04,\n",
       "        -8.19650097e-02],\n",
       "       [ 0.00000000e+00,  3.36159654e-02,  9.33229814e-02,\n",
       "         9.11562712e-02,  7.71383599e-02,  7.03041840e-02,\n",
       "         1.71870195e-01,  9.45337388e-02, -8.01482164e-07,\n",
       "         8.74323350e-02,  1.15651161e-01,  1.29034487e-01,\n",
       "         3.73695423e-01, -1.02113617e-01,  4.75290652e-03,\n",
       "         3.74507187e-02, -4.00278611e-07, -3.39835469e-01,\n",
       "        -3.08103773e-01, -1.99972501e-01,  1.11067338e-01,\n",
       "         1.93289155e-01,  1.37837172e-01,  8.64965718e-03,\n",
       "        -1.98780375e-07, -1.72314928e-01,  7.88013442e-02,\n",
       "        -3.38499313e-01, -2.79498038e-02,  4.54247576e-02,\n",
       "         1.21325120e-01, -3.23783243e-04,  0.00000000e+00,\n",
       "         2.03911986e-01,  2.83227932e-02, -1.15216554e-01,\n",
       "         1.08064505e-01,  3.19652027e-01,  3.15469328e-01,\n",
       "         0.00000000e+00, -1.00702745e-06,  9.58930832e-03,\n",
       "        -1.62935606e-02,  1.50983071e-01,  1.48196883e-01,\n",
       "        -6.71570242e-02, -1.95879674e-03, -4.34464526e-06,\n",
       "        -1.68551819e-05, -5.82889233e-02, -5.07543965e-02,\n",
       "         1.62850680e-01, -2.22378832e-01, -4.15393361e-01,\n",
       "        -1.28264729e-01, -4.56995468e-05, -5.56132932e-06,\n",
       "         3.96835940e-02,  4.99042302e-02, -2.97390376e-01,\n",
       "        -1.99552766e-01, -3.05685002e-01, -1.12200096e-01,\n",
       "        -2.79145820e-03],\n",
       "       [ 0.00000000e+00, -1.58869367e-01,  1.48136918e-01,\n",
       "        -1.41174162e-01,  1.18314621e-01, -1.01521520e-01,\n",
       "        -2.56260695e-01, -1.54973033e-02,  3.99997175e-02,\n",
       "        -5.78021213e-02,  8.53265737e-03,  4.70287792e-02,\n",
       "        -2.29185739e-01,  1.67325423e-01,  9.32620249e-02,\n",
       "        -1.61172471e-03, -3.81250901e-02,  2.26203744e-02,\n",
       "         1.87927020e-01, -8.72672582e-02,  1.58887628e-01,\n",
       "         1.84241474e-01,  6.61823197e-02, -5.96864587e-04,\n",
       "        -2.84645179e-02, -4.12804328e-02, -1.17740463e-01,\n",
       "         3.49433369e-01, -1.12399784e-01,  3.03024047e-03,\n",
       "         2.26066583e-03, -1.31960801e-05,  0.00000000e+00,\n",
       "        -2.45471980e-02, -1.18841080e-01,  3.38939208e-01,\n",
       "         6.95421935e-02, -2.48363697e-01, -4.99243306e-01,\n",
       "         0.00000000e+00, -1.01326278e-06,  1.00963692e-01,\n",
       "         1.90761473e-01,  6.61277957e-02,  1.33415164e-01,\n",
       "         6.39116887e-02,  1.52906929e-01, -7.96390089e-04,\n",
       "        -8.77817781e-04,  1.19261104e-01,  1.15999212e-01,\n",
       "        -2.56194048e-01, -2.48399631e-01,  1.25561352e-01,\n",
       "         1.79928829e-01, -7.34253373e-03, -2.92526849e-04,\n",
       "        -2.12965829e-02, -4.10296172e-01,  3.87182650e-03,\n",
       "         1.39373616e-01, -6.91919424e-02, -1.09547428e-01,\n",
       "        -6.57785861e-02],\n",
       "       [ 0.00000000e+00, -1.59201758e-01, -4.71504932e-03,\n",
       "         3.36304272e-01,  4.44016684e-02, -4.05773553e-02,\n",
       "         9.70403112e-02, -9.75523264e-02, -9.24697219e-05,\n",
       "         1.79478086e-01,  1.10082423e-01,  1.86487778e-01,\n",
       "        -1.52290404e-01,  1.15967122e-01,  1.44510147e-01,\n",
       "        -9.73676884e-02, -1.59319615e-05, -1.39551067e-02,\n",
       "         5.51065699e-02,  8.49587112e-02,  2.85285638e-01,\n",
       "         5.39288081e-01,  1.96081139e-01, -8.17470977e-02,\n",
       "        -7.09187559e-06,  7.05428615e-02,  2.59469359e-01,\n",
       "         3.96012179e-01,  8.72869475e-02,  2.34825510e-01,\n",
       "         2.15619735e-02, -5.53830561e-04,  0.00000000e+00,\n",
       "        -4.26531234e-01, -1.65286502e-01,  2.67234665e-01,\n",
       "        -1.45010984e-01, -1.46790901e-02, -2.30148609e-02,\n",
       "         0.00000000e+00, -1.00286881e-06,  6.93369470e-03,\n",
       "        -4.38181685e-01, -8.27528223e-01, -3.13378513e-01,\n",
       "        -1.43771372e-01, -2.27482553e-01,  7.56645619e-07,\n",
       "        -4.07065549e-07,  2.41838576e-02, -3.82448344e-02,\n",
       "        -1.38274543e-01, -2.05673254e-01, -2.40967796e-01,\n",
       "        -8.42805133e-02,  1.88731067e-02, -8.41680721e-08,\n",
       "        -1.50466918e-01, -1.75956219e-02,  1.28797066e-01,\n",
       "         1.03718128e-01,  1.55390825e-01,  2.33105095e-03,\n",
       "         1.26262339e-02]])"
      ]
     },
     "execution_count": 200,
     "metadata": {},
     "output_type": "execute_result"
    }
   ],
   "source": [
    "lr.coef_   #SINCE THERE ARE 64 COLUMS THERE FORE THERE ARE 64 WEIGHTS FOR EACH PREDICTION\n",
    "            #ALSO SINCE OUTPUT CAN BE 10 THRE FORE THERE ARE 10 COLUMNS EACH OF 64 WEIGHTS\n",
    "              #REFER HERE https://www.youtube.com/watch?v=V8fS0T_ktn4\n",
    "            "
   ]
  },
  {
   "cell_type": "code",
   "execution_count": 196,
   "metadata": {},
   "outputs": [
    {
     "data": {
      "text/plain": [
       "array([6.54131607e-08, 2.07972126e-15, 2.48444440e-07, 9.58046667e-08,\n",
       "       5.26555394e-10, 9.99999258e-01, 1.04143909e-09, 7.59457577e-08,\n",
       "       2.54939220e-07, 1.32164455e-10])"
      ]
     },
     "execution_count": 196,
     "metadata": {},
     "output_type": "execute_result"
    }
   ],
   "source": [
    "lr.predict_proba(xtrain)[0]  #THIS IS THE PROBABILITY OF BEING O 1 2 3 4 5 6 7 8 9 0\n",
    "                              #HERE PROBABILITY OF ARRAY BEING 5 IS MAXIMUM"
   ]
  },
  {
   "cell_type": "code",
   "execution_count": 197,
   "metadata": {},
   "outputs": [
    {
     "data": {
      "text/plain": [
       "array([5, 9, 9, ..., 1, 0, 7])"
      ]
     },
     "execution_count": 197,
     "metadata": {},
     "output_type": "execute_result"
    }
   ],
   "source": [
    "ytrain"
   ]
  },
  {
   "cell_type": "code",
   "execution_count": 203,
   "metadata": {},
   "outputs": [],
   "source": [
    "a=[1,2,3,4,5,6,7]"
   ]
  },
  {
   "cell_type": "code",
   "execution_count": 204,
   "metadata": {},
   "outputs": [
    {
     "name": "stdout",
     "output_type": "stream",
     "text": [
      "[1, 2, 3, 4, 5, 6]\n"
     ]
    }
   ],
   "source": [
    "print(a[:-1])"
   ]
  },
  {
   "cell_type": "code",
   "execution_count": null,
   "metadata": {},
   "outputs": [],
   "source": []
  }
 ],
 "metadata": {
  "kernelspec": {
   "display_name": ".venv",
   "language": "python",
   "name": "python3"
  },
  "language_info": {
   "codemirror_mode": {
    "name": "ipython",
    "version": 3
   },
   "file_extension": ".py",
   "mimetype": "text/x-python",
   "name": "python",
   "nbconvert_exporter": "python",
   "pygments_lexer": "ipython3",
   "version": "3.9.0"
  },
  "orig_nbformat": 4,
  "vscode": {
   "interpreter": {
    "hash": "9ff8c039cde8d16c8fd5d5cb64d0fbfa4f9dd84e7e00f8008380a6e4a2d4622e"
   }
  }
 },
 "nbformat": 4,
 "nbformat_minor": 2
}
